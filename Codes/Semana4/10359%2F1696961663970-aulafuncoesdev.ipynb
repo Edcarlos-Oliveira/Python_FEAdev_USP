{
 "cells": [
  {
   "cell_type": "markdown",
   "id": "140b5f62",
   "metadata": {},
   "source": [
    "<font size=6><b>Funções </b></font>\n",
    "<br><br>\n",
    "\n",
    "Nesta aula veremos um tema muito relevante para todo e qualquer programador ou usuário da lógica de programação: **Funções**."
   ]
  },
  {
   "cell_type": "markdown",
   "id": "e213193d",
   "metadata": {
    "toc": true
   },
   "source": [
    "<h1>Plano de aula<span class=\"tocSkip\"></span></h1>\n",
    "<div class=\"toc\"><ul class=\"toc-item\"><li><span><a href=\"#O-que-é-uma-função?\" data-toc-modified-id=\"O-que-é-uma-função?-1\"><span class=\"toc-item-num\">1&nbsp;&nbsp;</span>O que é uma função?</a></span></li><li><span><a href=\"#Nossa-primeira-função\" data-toc-modified-id=\"Nossa-primeira-função-2\"><span class=\"toc-item-num\">2&nbsp;&nbsp;</span>Nossa primeira função</a></span></li><li><span><a href=\"#Argumentos-de-uma-função\" data-toc-modified-id=\"Argumentos-de-uma-função-3\"><span class=\"toc-item-num\">3&nbsp;&nbsp;</span>Argumentos de uma função</a></span><ul class=\"toc-item\"><li><span><a href=\"#Keyword-arguments-e-default-values\" data-toc-modified-id=\"Keyword-arguments-e-default-values-3.1\"><span class=\"toc-item-num\">3.1&nbsp;&nbsp;</span><em>Keyword arguments</em> e <em>default values</em></a></span></li><li><span><a href=\"#Elementos-dentro-da-função:-execução-condicional\" data-toc-modified-id=\"Elementos-dentro-da-função:-execução-condicional-3.3\"><span class=\"toc-item-num\">3.3&nbsp;&nbsp;</span>Elementos dentro da função: execução condicional</a></span><ul class=\"toc-item\"><li><span><a href=\"#Aplicação:Cálculo da média aritmética\" data-toc-modified-id=\"Aplicação:Cálculo da média aritmética.3.1\"><span class=\"toc-item-num\">3.3.1&nbsp;&nbsp;</span>Aplicação: Cálculo da média aritmética</a></span></li></ul></li><li><span><a href=\"#Elementos-dentro-da-função:-iteração\" data-toc-modified-id=\"Elementos-dentro-da-função:-iteração-3.4\"><span class=\"toc-item-num\">3.4&nbsp;&nbsp;</span>Elementos dentro da função: iteração</a></span><ul class=\"toc-item\"></ul></li></ul></li><li><span><a href=\"#Valor-de-retorno-de-uma-função\" data-toc-modified-id=\"Valor-de-retorno-de-uma-função-4\"><span class=\"toc-item-num\">4&nbsp;&nbsp;</span>Valor de retorno de uma função</a></span><ul class=\"toc-item\"><li><span><a href=\"#Expectativa-de-vida-de-variáveis-dentro-da-função\" data-toc-modified-id=\"Expectativa-de-vida-de-variáveis-dentro-da-função-4.1\"><span class=\"toc-item-num\">4.1&nbsp;&nbsp;</span>Expectativa de vida de variáveis dentro da função</a></span><ul class=\"toc-item\"><li><span><a href=\"#Aplicação:-Teorema-Central-do-Limite---Parte-3\" data-toc-modified-id=\"Aplicação:-Teorema-Central-do-Limite---Parte-3-4.1.1\"><span class=\"toc-item-num\">Cálculo com a função aritmética</span></a></span></li></ul></li></ul></li><li><span><a href=\"#Documentação\" data-toc-modified-id=\"Documentação-5\"><span class=\"toc-item-num\">5&nbsp;&nbsp;</span>Documentação</a></span><li><span><a href=\"#Argumentos-arbitrários\" data-toc-modified-id=\"Argumentos-arbitrários-3.2\"><span class=\"toc-item-num\">6&nbsp;&nbsp;</span>Argumentos arbitrários</a></span></li></li></ul></div>"
   ]
  },
  {
   "cell_type": "markdown",
   "id": "bf554e99",
   "metadata": {},
   "source": [
    "***"
   ]
  },
  {
   "cell_type": "markdown",
   "id": "fb79dea9",
   "metadata": {},
   "source": [
    "# O que é uma função?\n",
    "\n",
    "<img src=\"https://ae01.alicdn.com/kf/S1aad55063ae8449786a265f388b267df4/STARSAT-Receptor-de-Sat-lite-Universal-Remote-Control-Todo-o-Modelo-Pode-Usar-Oriente-Oriental-Europa.jpg\" alt=\"rotina\" width=\"300\"/>\n",
    "\n",
    "No contexto das linguagens de programação, uma função é uma sequência nomeada de instruções, que executa algum tipo de operação específica. A ideia essencial por trás de uma função é a de juntar algumas tarefas comuns ou repetidas e criar uma função para que, em vez de escrever o mesmo código várias vezes, possamos chama-la pelo nome e reutilizar o conjunto de instruções nela contida sempre que necessário.\n",
    "\n",
    "Caso o objetivo de dividir um programa em funções ainda não tenha ficado claro, saiba que:\n",
    "\n",
    "<br>\n",
    "\n",
    "* Criar uma nova função dá a oportunidade de nomear um grupo de instruções, o que deixa o seu programa mais fácil de ler e de depurar\n",
    "\n",
    "* As funções podem tornar um programa menor, eliminando o código repetitivo. Depois, caso precise fazer alguma alteração, basta fazê-la em um lugar só.\n",
    "\n",
    "* Dividir um programa longo em funções permite depurar as partes uma de cada vez e então reuni-las em um conjunto funcional.\n",
    "\n",
    "* As funções bem projetadas muitas vezes são úteis para muitos programas. Uma vez que escreve e depure uma, você pode reutilizá-la em programas fora daquele para o qual a função foi originalmente construída.\n",
    "\n",
    "<br>\n",
    "\n",
    "Existem várias funções nativas no Python (e.g., `type()` para encontrar o tipo de um objeto) e mesmo dentro de bibliotecas com as quais já trabalhamos um pouco (e.g., `numpy.random.uniform()` para sortear números aleatórios de acordo com uma distribuição uniforme). À partir de agora veremos como podemos criar nossas próprias funções dentro da linguagem!\n",
    "\n",
    "No Python, a sintaxe de uma função é dada por:\n",
    "\n",
    "```python\n",
    "def nome_da_funcao(argumentos):\n",
    "    <instruções>    \n",
    "```\n",
    "\n",
    "Assim como nos _loops_, para definir uma nova função no Python é preciso começar com uma palavra-chave, nesse caso `def`. O nome  que daremos à função vem logo em seguida. É através desse nome, `nome_da_funcao`, que chamaremos essa função em outras partes do nosso código. Entre parênteses definimos os `argumentos` que a função recebe para realizar o conjunto de instruções em `<instruções>`.\n",
    "\n",
    "Note, mais uma vez, que todo o bloco de código que estiver **identado** e abaixo da linha de cabeçalho da função fará parte da função. Assim como nos _loops_, a função termina quando passarmos a primeira linha de código não-identada."
   ]
  },
  {
   "cell_type": "markdown",
   "id": "0ad22fc7",
   "metadata": {},
   "source": [
    "# Nossa primeira função\n",
    "\n",
    "Vamos começar criando uma função simples, que tem por objetivo printar uma das frases mais conhecidas da história do cinema:"
   ]
  },
  {
   "cell_type": "code",
   "execution_count": null,
   "id": "6f9a46cd",
   "metadata": {},
   "outputs": [],
   "source": [
    "def frase_cinema():\n",
    "    print('Que a força esteja com você!')"
   ]
  },
  {
   "cell_type": "markdown",
   "id": "843f5070",
   "metadata": {},
   "source": [
    "Note que nesse caso, o parênteses logo após o nome da função está vazio. Isso quer dizer que essa função não recebe argumentos, apenas printa a frase entre aspas sempre que for chamada. Para chamá-la, basta usar o nome `frase_cinema` seguido dos parênteses vazios:"
   ]
  },
  {
   "cell_type": "code",
   "execution_count": null,
   "id": "525578db",
   "metadata": {},
   "outputs": [],
   "source": [
    "frase_cinema()"
   ]
  },
  {
   "cell_type": "markdown",
   "id": "48208d57",
   "metadata": {},
   "source": [
    "# Argumentos de uma função"
   ]
  },
  {
   "cell_type": "markdown",
   "id": "554d25a6-f339-4f71-a789-adff89f82edc",
   "metadata": {},
   "source": [
    "Na função anterior, não tínhamos nenhum argumento. Ou seja, toda vez que você chamar a função `frase_cinema`, ela vai fazer a mesma coisa. Pode até ser que seja o seu objetivo fazer exatamente isso -- é uma forma de economizar código.\n",
    "\n",
    "O ponto é que a ideia de função é muito mais poderosa do que simplesmente uma \"abreviação\" de um monte de linhas de código. A ideia de abstração implícita no conceito de função é poderosa o suficiente para acomodar a ideia que a função retorne coisas diferentes caso você altere algum **argumento**. Vamos falar disso a seguir."
   ]
  },
  {
   "cell_type": "markdown",
   "id": "c230ef14",
   "metadata": {},
   "source": [
    "## _Keyword arguments_ e _default values_"
   ]
  },
  {
   "cell_type": "markdown",
   "id": "5cfdbb3b-cb66-4117-b0b9-dbe8499f638e",
   "metadata": {},
   "source": [
    "Vamos então criar uma função que tenha argumentos. "
   ]
  },
  {
   "cell_type": "code",
   "execution_count": null,
   "id": "f3bcdfa6-0642-41c5-8cd5-4dc7664a3afd",
   "metadata": {},
   "outputs": [],
   "source": [
    "def funcao(nome,lugar):\n",
    "  print(f\"Olá {nome}! Você é de {lugar}?\")\n",
    "\n",
    "funcao(\"Maria\",\"Paris\")"
   ]
  },
  {
   "cell_type": "markdown",
   "id": "9e95a38a-501b-481d-8f94-70c822c19e68",
   "metadata": {},
   "source": [
    "O que acontece se você especificar o `place` primeiro e depois o `name`? Vamos descobrir."
   ]
  },
  {
   "cell_type": "code",
   "execution_count": null,
   "id": "65144564-b206-4d79-82a0-0f72e5dd58f6",
   "metadata": {},
   "outputs": [],
   "source": [
    "funcao(\"São Paulo\",\"Roberto\")"
   ]
  },
  {
   "cell_type": "markdown",
   "id": "0377a12f-447c-47f2-8524-f377d2636ea1",
   "metadata": {},
   "source": [
    "Tá meio bizarro, é porque aqui temos os chamados **argumentos posicionais**. Ou seja, ele vai assumir que o primeiro argumento é o `name` e o segundo é o `place` não importa o que. Para lidar com isso, a gente pode atribuir um nome a cada um dos argumentos, ou **palavra-chave**, que aí vai ser a palavra-chave e não a posição que vai determinar o que é qual argumento."
   ]
  },
  {
   "cell_type": "code",
   "execution_count": null,
   "id": "856d0e62-607e-41ff-a581-a191b6636b64",
   "metadata": {},
   "outputs": [],
   "source": [
    "funcao(lugar=\"São Paulo\",nome=\"Roberto\")"
   ]
  },
  {
   "cell_type": "markdown",
   "id": "a598c315-4dba-437a-bf0f-8052ccf90533",
   "metadata": {},
   "source": [
    "Vimos aqui que a posição passou a ser irrelevante pq vc colocou os nomes de cada um dos argumentos. E se quiséssemos dar mais flexibilidade ainda à função, só especificando um subconjunto dos argumentos? Para que isso funcione, nós precisamos especificar os valores-padrão dos argumentos caso eles não sejam fornecidos.\n",
    "Aqui tem uma função que faz isso."
   ]
  },
  {
   "cell_type": "code",
   "execution_count": null,
   "id": "982cabb9-568b-4291-9bb8-859755230ab1",
   "metadata": {},
   "outputs": [],
   "source": [
    "def viagem_para_dois(custo=1000):\n",
    "  total = custo * 2\n",
    "  total = round(total,2)\n",
    "  print(f\"O total a ser gasto na viagem será de ${total}\")\n",
    "  \n",
    "viagem_para_dois(2000)"
   ]
  },
  {
   "cell_type": "markdown",
   "id": "39e8320a-62f6-4bcc-906c-8ed862fbeaba",
   "metadata": {},
   "source": [
    "Nesse caso, o argumento `custo` vai assumir o valor de 1000 toda vez que ele não for explicitamente fornecido na chamada da função."
   ]
  },
  {
   "cell_type": "markdown",
   "id": "8b7db568",
   "metadata": {},
   "source": [
    "## Elementos dentro da função: execução condicional"
   ]
  },
  {
   "cell_type": "markdown",
   "id": "47147c08-77f9-4ca9-8ce2-dd2cc8c6a949",
   "metadata": {},
   "source": [
    "As funções podem retornar booleans, o que pode ser conveniente para esconder testes complicados dentro de funções. Por exemplo:\n"
   ]
  },
  {
   "cell_type": "code",
   "execution_count": null,
   "id": "ba00ceab-678c-40f2-b2cd-7a6594b39563",
   "metadata": {},
   "outputs": [],
   "source": [
    "def divisivel(x, y):\n",
    "    if x % y == 0:\n",
    "        return True\n",
    "    else:\n",
    "        return False\n",
    "    \n",
    "divisivel(6, 4)"
   ]
  },
  {
   "cell_type": "markdown",
   "id": "48ee81ce",
   "metadata": {},
   "source": [
    "### Aplicação: média aritmética\n",
    "\n",
    "Agora, aremos início a um exemplo de aplicação das funções em Python, que é o caso da média aritmética, que utiliza de uma sequência breve de comandos de forma a nos fornecer o resultado correto:"
   ]
  },
  {
   "cell_type": "code",
   "execution_count": null,
   "id": "f00d1d73",
   "metadata": {},
   "outputs": [],
   "source": [
    "def calcular_media(nums):\n",
    "    total = 0\n",
    "    for num in nums:\n",
    "        total += num\n",
    "        \n",
    "    media = total / len(nums)\n",
    "    print(\"A média é:\", media)\n",
    "\n",
    "numeros = [10, 20, 30, 40, 50]\n",
    "calcular_media(numeros)"
   ]
  },
  {
   "cell_type": "markdown",
   "id": "e15de1e8",
   "metadata": {},
   "source": [
    "# Valor de retorno de uma função"
   ]
  },
  {
   "cell_type": "markdown",
   "id": "8cbfc838-3b4e-44f1-9f48-265488054615",
   "metadata": {},
   "source": [
    "O comando `return` é usado para a saída de uma função de volta ao  lugar no código de onde ela foi chamada. A sintaxe desse comando é simples e vocês já viram anteriormente:\n",
    "\n",
    "```python\n",
    "return <expression_list>\n",
    "```\n",
    "\n",
    "Essa declaração pode ter um comando que é executado e o valor resultante devolvido. Se esse comando não for anexado ou não tiver nada além do `return`, a função é devolvida com o valor de `None`. Por exemplo:"
   ]
  },
  {
   "cell_type": "markdown",
   "id": "f2d1bf7f",
   "metadata": {},
   "source": [
    "## Expectativa de vida (Scoping) de variáveis dentro da função\n",
    "\n",
    "Quando você cria uma variável **dentro** de uma função ela é local, ou seja, só existe dentro da própria função. Por exemplo:"
   ]
  },
  {
   "cell_type": "code",
   "execution_count": null,
   "id": "b3239bde",
   "metadata": {},
   "outputs": [],
   "source": [
    "def concatena(str1,str2):\n",
    "    \n",
    "    texto_concatenado = str1 + ' ' + str2\n",
    "    print(texto_concatenado)\n",
    "    \n",
    "\n",
    "texto1 = 'Que a força esteja com você,'\n",
    "texto2 = 'jovem Padawan.'\n",
    "\n",
    "concatena(texto1,texto2)"
   ]
  },
  {
   "cell_type": "markdown",
   "id": "b993edc4",
   "metadata": {},
   "source": [
    "Essa função recebe dois argumentos, concatena-os e exibe o resultado em uma única linha de texto. No entanto, assim que a função é encerrada, a variável `texto_concatenado` é deletada. O que acontece se tentarmos acessá-la?"
   ]
  },
  {
   "cell_type": "code",
   "execution_count": null,
   "id": "98049af9",
   "metadata": {},
   "outputs": [],
   "source": [
    "print(texto_concatenado)"
   ]
  },
  {
   "cell_type": "markdown",
   "id": "6bc88a09",
   "metadata": {},
   "source": [
    "### Aplicação: cálculo com a média aritmética\n",
    "\n",
    "Retomando a função do cálculo da média aritmética:"
   ]
  },
  {
   "cell_type": "code",
   "execution_count": null,
   "id": "2df8dd79",
   "metadata": {},
   "outputs": [],
   "source": [
    "def calcular_media(nums):\n",
    "    total = 0\n",
    "    for num in nums:\n",
    "        total += num\n",
    "        \n",
    "    media = total / len(nums)\n",
    "    print(\"A média é:\", media)\n",
    "\n",
    "numeros = [10, 20, 30, 40, 50]\n",
    "calcular_media(numeros)"
   ]
  },
  {
   "cell_type": "markdown",
   "id": "0ef07b3d",
   "metadata": {},
   "source": [
    "Como acabamos de ver, se quisermos acessar a variável `x` o Python retornará um erro. As variáveis definidas dentro de uma função tem vida curta: elas existem apenas dentro da função!"
   ]
  },
  {
   "cell_type": "code",
   "execution_count": null,
   "id": "8166f0bc",
   "metadata": {},
   "outputs": [],
   "source": [
    "print(media)"
   ]
  },
  {
   "cell_type": "markdown",
   "id": "12148fa6",
   "metadata": {},
   "source": [
    "No entanto, agora já sabemos o que a palavra-chave `return` faz dentro de uma função. Vamos utilizá-la!"
   ]
  },
  {
   "cell_type": "code",
   "execution_count": null,
   "id": "f5da5b0f",
   "metadata": {},
   "outputs": [],
   "source": [
    "def calcular_media(nums):\n",
    "    total = 0\n",
    "    for num in nums:\n",
    "        total += num\n",
    "        \n",
    "    media = total / len(nums)\n",
    "    return media\n",
    "\n",
    "numeros = [10, 20, 30, 40, 50]\n",
    "media = calcular_media(numeros)\n",
    "print(\"A média é:\", media)"
   ]
  },
  {
   "cell_type": "markdown",
   "id": "3e59d0f4",
   "metadata": {},
   "source": [
    "Maravilha, à partir disso podemos fazer outras manipulações com base no resultado que obtivemos."
   ]
  },
  {
   "cell_type": "code",
   "execution_count": null,
   "id": "6a4d59c4",
   "metadata": {},
   "outputs": [],
   "source": [
    "print(media * 2)"
   ]
  },
  {
   "cell_type": "markdown",
   "id": "9b194c5d",
   "metadata": {},
   "source": [
    "# Documentação\n",
    "\n",
    "Uma **docstring** é uma string no início de uma função, definida pelo usuário, que serve como documentação do que a função faz. A docstring vem logo depois da primeira linha que define a função e é delimitada por aspas triplas, o que permite que a string se estenda por várias linhas, como vocês devem se lembrar.\n",
    "\n",
    "Vamos criar como exemplo uma função que printa o tipo do objeto que é passado como argumento:"
   ]
  },
  {
   "cell_type": "code",
   "execution_count": null,
   "id": "655c520d",
   "metadata": {},
   "outputs": [],
   "source": [
    "def imprime_tipo(x):\n",
    "    \n",
    "    '''\n",
    "    Função simples que imprime o tipo do objeto recebido como argumento.\n",
    "    '''\n",
    "    \n",
    "    print(type(x))"
   ]
  },
  {
   "cell_type": "markdown",
   "id": "5f0e2ffc",
   "metadata": {},
   "source": [
    "Embora opcional, a documentação é uma **boa prática de programação**. A menos que você consiga se lembrar qual foi o cardápio do bandejão na semana passada, sempre documente seu código. Podemos acessar a documentação de determinada função utilizando o atributo `__doc__`."
   ]
  },
  {
   "cell_type": "code",
   "execution_count": null,
   "id": "452bd7e6",
   "metadata": {},
   "outputs": [],
   "source": [
    "print(imprime_tipo.__doc__)"
   ]
  },
  {
   "cell_type": "markdown",
   "id": "1cc350ba",
   "metadata": {},
   "source": [
    "Isso vale também para funções nativas e definidas em outros pacotes do Python. Por exemplo,"
   ]
  },
  {
   "cell_type": "code",
   "execution_count": null,
   "id": "ef1bd2c9",
   "metadata": {},
   "outputs": [],
   "source": [
    "# documentação da função nativa len()\n",
    "print(len.__doc__)"
   ]
  },
  {
   "cell_type": "code",
   "execution_count": null,
   "id": "5fae075f",
   "metadata": {},
   "outputs": [],
   "source": [
    "import time\n",
    "\n",
    "# documentação da função time() dentro do pacote time\n",
    "print(time.time.__doc__)"
   ]
  },
  {
   "cell_type": "code",
   "execution_count": null,
   "id": "16f49bf0",
   "metadata": {},
   "outputs": [],
   "source": [
    "import numpy as np\n",
    "\n",
    "# documentação da função uniform() dentro do pacote NumPy\n",
    "print(np.random.uniform.__doc__)"
   ]
  },
  {
   "cell_type": "markdown",
   "id": "7fc781cf",
   "metadata": {},
   "source": [
    "Note do exemplo acima que uma docstring pode conter uma descrição detalhada do funcionamento de uma função, inclusive com exemplos de aplicação. Legal, né? Note que esse tipo de documentação também está disponível para as bibliotecas como um todo. Isso pode nos ajudar, por exemplo, a conhecer o conteúdo de uma determinada biblioteca."
   ]
  },
  {
   "cell_type": "code",
   "execution_count": null,
   "id": "9f2ec9dc",
   "metadata": {},
   "outputs": [],
   "source": [
    "import numpy as np\n",
    "\n",
    "# documentação do NumPy\n",
    "print(np.__doc__)"
   ]
  },
  {
   "cell_type": "markdown",
   "id": "938e3a39",
   "metadata": {},
   "source": [
    "Podemos usar sempre esse atalho caso desejemos conhecer as funcionalidades que uma biblioteca guarda por trás de suas cortinas!"
   ]
  },
  {
   "cell_type": "markdown",
   "id": "ef7ae869",
   "metadata": {},
   "source": [
    "# Argumentos arbitrários"
   ]
  },
  {
   "cell_type": "markdown",
   "id": "99232c5f",
   "metadata": {},
   "source": [
    "Vamos começar fazendo algumas perguntas:\n",
    "* E se não soubermos o número exato de argumentos de antemão?\n",
    "* Podemos criar funções que funcionem com um número variável de argumentos?\n",
    "\n",
    "A resposta é *sim*! E vamos criar essa função imediatamente. Vamos criar uma função simples my_var_sum()que retorna a soma de todos os números passados como argumento. No entanto, o número de argumentos pode ser potencialmente diferente cada vez que chamamos a função. Aqui estou explicitamente colocando uma declaração `return` que devolve o valor de `sum` ao final. Vamos falar mais disso a seguir."
   ]
  },
  {
   "cell_type": "code",
   "execution_count": null,
   "id": "c17e1759",
   "metadata": {},
   "outputs": [],
   "source": [
    "def soma_argumentos(*args):\n",
    "  sum = 0\n",
    "  for arg in args:\n",
    "    sum += arg\n",
    "  print(f\"A soma dos números inseridos é de {sum}\")"
   ]
  },
  {
   "cell_type": "markdown",
   "id": "0d57644d",
   "metadata": {},
   "source": [
    "Observe como a definição da função agora tem `*args` em vez de apenas o nome do parâmetro. No corpo da função, fazemos um loop args até usarmos todos os argumentos. A função `my_var_sum` retorna a soma de todos os números passados como argumentos. Olha só o que acontece quando chamamos a função com diferentes números de argumentos:"
   ]
  },
  {
   "cell_type": "code",
   "execution_count": null,
   "id": "c0211418",
   "metadata": {},
   "outputs": [],
   "source": [
    "soma_argumentos(99,10,54,23)\n",
    "soma_argumentos(9,87,45)\n",
    "soma_argumentos(5,21,36,79,45,65)"
   ]
  },
  {
   "cell_type": "markdown",
   "id": "853b22d8",
   "metadata": {},
   "source": [
    "Mas e se eu quiser passar não apenas uma sequência de valores, mas uma sequência de valores *com nomes*? Não se preocupe, existe uma possibilidade de fazer isso, usando o `**kwargs` na definição dos argumentos. \n",
    "Qual é a diferença entre `*args` e `**kwargs`? A diferença é que você vai passar uma sequência de tamanho arbitrário de parâmetros, cada um deles nomeado.\n",
    "\n",
    "O Python vai entender o `**kwargs` como um dicionário. Cada elemento passado é um par chave-valor, e dentro da função você tem que desempacotar o valor da chave. Vamos seguir alguns exemplos."
   ]
  },
  {
   "cell_type": "code",
   "execution_count": null,
   "id": "a2b1ba80",
   "metadata": {},
   "outputs": [],
   "source": [
    "def funcao(**kwargs):\n",
    "    for key, value in kwargs.items():\n",
    "        print(\"%s == %s\" % (key, value))\n",
    " \n",
    " \n",
    "funcao(first='Geeks', mid='for', last='Geeks')"
   ]
  },
  {
   "cell_type": "markdown",
   "id": "a44d4c29",
   "metadata": {},
   "source": [
    "Podemos misturar os tipos de argumentos (posicionais versus `*args`/`*kwargs`)? Sim, como podemos ver no exemplo seguinte:"
   ]
  },
  {
   "cell_type": "code",
   "execution_count": null,
   "id": "228035c1",
   "metadata": {},
   "outputs": [],
   "source": [
    "def funcao(arg1, **kwargs):\n",
    "    for key, value in kwargs.items():\n",
    "        print(arg1+\" %s == %s\" % (key, value))\n",
    " \n",
    " \n",
    "funcao(\"Hi\", first='Geeks', mid='for', last='Geeks')"
   ]
  }
 ],
 "metadata": {
  "kernelspec": {
   "display_name": "Python 3 (ipykernel)",
   "language": "python",
   "name": "python3"
  },
  "language_info": {
   "codemirror_mode": {
    "name": "ipython",
    "version": 3
   },
   "file_extension": ".py",
   "mimetype": "text/x-python",
   "name": "python",
   "nbconvert_exporter": "python",
   "pygments_lexer": "ipython3",
   "version": "3.9.7"
  },
  "toc": {
   "base_numbering": 1,
   "nav_menu": {},
   "number_sections": true,
   "sideBar": true,
   "skip_h1_title": false,
   "title_cell": "Plano de aula",
   "title_sidebar": "Contents",
   "toc_cell": true,
   "toc_position": {
    "height": "calc(100% - 180px)",
    "left": "10px",
    "top": "150px",
    "width": "333.6px"
   },
   "toc_section_display": true,
   "toc_window_display": true
  },
  "varInspector": {
   "cols": {
    "lenName": 16,
    "lenType": 16,
    "lenVar": 40
   },
   "kernels_config": {
    "python": {
     "delete_cmd_postfix": "",
     "delete_cmd_prefix": "del ",
     "library": "var_list.py",
     "varRefreshCmd": "print(var_dic_list())"
    },
    "r": {
     "delete_cmd_postfix": ") ",
     "delete_cmd_prefix": "rm(",
     "library": "var_list.r",
     "varRefreshCmd": "cat(var_dic_list()) "
    }
   },
   "oldHeight": 122.85,
   "position": {
    "height": "40px",
    "left": "1266px",
    "right": "20px",
    "top": "120px",
    "width": "250px"
   },
   "types_to_exclude": [
    "module",
    "function",
    "builtin_function_or_method",
    "instance",
    "_Feature"
   ],
   "varInspector_section_display": "none",
   "window_display": true
  }
 },
 "nbformat": 4,
 "nbformat_minor": 5
}
