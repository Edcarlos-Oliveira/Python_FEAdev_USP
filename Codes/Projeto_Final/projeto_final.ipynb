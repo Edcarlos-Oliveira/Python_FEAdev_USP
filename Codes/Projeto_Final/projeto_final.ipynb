{
 "cells": [
  {
   "cell_type": "markdown",
   "metadata": {},
   "source": [
    "### Projeto Final de conclusão do curso Python do Básico ao Intermediário oferecido por FEA-dev - USP"
   ]
  },
  {
   "cell_type": "markdown",
   "metadata": {},
   "source": [
    "                                    \n",
    "#### Introdução:\n",
    "\n",
    "__DATASET: Impacto da Pandemia Covid-19 na Economia Global__\n",
    "                                           \n",
    "\n",
    "- Conjunto de dados publicado em 27 de Novembro de 2020,\n",
    "- O Estudo avaliou o Impacto da Pandemia do Covid-19 na Economia Global, \n",
    "trouxe os dados de 170 Países.\n",
    "\n",
    "- A Pandemia do Covid-19 desistabilizou a economia global e seus lideres mundiais,\n",
    "foram colocados na 'prova de fogo' de como lidaria com essa crise de saúde mundial.\n",
    "\n",
    "- O conjunto de dados apurou os impactos da pandemia na renda da população, nas atividades\n",
    "econômicas e bem estar social.\n",
    "\n",
    "- As riquezas das informações são essenciais para mensurar os impactos a longo alcance das\n",
    "pandemias no orçamento populacional e como os países estavam atuando no enfrentamento para\n",
    "os sucessos dos resultados futuros. O objetivo do estudo valorizou a resposta econômica à pandemia.\n",
    "\n",
    "- __Este projeto final tem como objetivo avaliar os Países mais afetados correlacionados a população, \n",
    "números de casos e PIB local, acredito que esses três dados estão intimamente ligados aos resultados\n",
    "dos impactos econômicos causados__. \n",
    "\n",
    "- Os reconhecimentos é da fonte:    \n",
    "Vitenu-Sackey, Prince Asare (2020), “O Impacto da Pandemia de Covid-19 na Economia Global:\n",
    "Ênfase no Alívio da Pobreza e no Crescimento Econômico”, Mendeley Data, V1, doi: 10.17632/b2wvnbnpj9.1\n",
    "\n",
    "- link: https://www.kaggle.com/datasets/shashwatwork/impact-of-covid19-pandemic-on-the-global-economy\n"
   ]
  },
  {
   "cell_type": "code",
   "execution_count": 1,
   "metadata": {},
   "outputs": [],
   "source": [
    "# Importando as bibliotecas necessárias\n",
    "import pandas as pd\n",
    "import matplotlib.pyplot as plt\n",
    "import seaborn as sns"
   ]
  },
  {
   "cell_type": "markdown",
   "metadata": {},
   "source": [
    "#### Dados:\n",
    "\n",
    "- Aqui irei carregar o Dataset, limpar, renomear e verificar os duplicados para iniciar a demonstração de resultados."
   ]
  },
  {
   "cell_type": "code",
   "execution_count": null,
   "metadata": {},
   "outputs": [],
   "source": [
    "# Carregando o dataset\n",
    "df = pd.read_csv('raw_data.csv')\n",
    "print(df.head())"
   ]
  },
  {
   "cell_type": "code",
   "execution_count": null,
   "metadata": {},
   "outputs": [],
   "source": [
    "# Mostrando a quantidade de linhas e colunas\n",
    "print(f'A quantidade de linhas são: {df.shape[0]}\\nA quantidade de colunas são: {df.shape[1]}')"
   ]
  },
  {
   "cell_type": "markdown",
   "metadata": {},
   "source": [
    "##### Tradução dos nomes de cada coluna para facilitar a visualização:\n",
    "- iso_code = Código iso\n",
    "- location = Localização\n",
    "- date = data\n",
    "- total_cases = Total casos\n",
    "- total_deaths = Total mortes\n",
    "- stringency_index = Indice rigor\n",
    "- population = População\n",
    "- gdp_per_capita = PIB per capita\n",
    "- human_development_index = Indice desenvolvimento humano\n",
    "- Unnamed = Sem Nome"
   ]
  },
  {
   "cell_type": "code",
   "execution_count": null,
   "metadata": {},
   "outputs": [],
   "source": [
    "# Verificando as colunas existentes\n",
    "colunas_existentes = df.columns\n",
    "print('As colunas existentes são:')\n",
    "for colunas in colunas_existentes:\n",
    "    print(colunas)"
   ]
  },
  {
   "cell_type": "code",
   "execution_count": null,
   "metadata": {},
   "outputs": [],
   "source": [
    "# Removendo as colunas que não serão usadas:\n",
    "colunas_remover = ['iso_code', 'stringency_index', 'human_development_index', 'Unnamed: 9', 'Unnamed: 10', 'Unnamed: 11', 'Unnamed: 12', 'Unnamed: 13']\n",
    "novo_df = df.drop(colunas_remover, axis=1)\n",
    "print(novo_df.head())"
   ]
  },
  {
   "cell_type": "code",
   "execution_count": null,
   "metadata": {},
   "outputs": [],
   "source": [
    "# Renomeando as colunas\n",
    "df_renomeado = novo_df.rename(columns={'location':'Localização', 'date':'Data',\n",
    "                                             'total_cases':'Total_Casos', 'total_deaths':'Total_Mortes',\n",
    "                                             'population':'População', 'gdp_per_capita':'PIB_per_capita'})\n",
    "\n",
    "print(df_renomeado.head())"
   ]
  },
  {
   "cell_type": "code",
   "execution_count": null,
   "metadata": {},
   "outputs": [],
   "source": [
    "# Verificando se há dados nulos\n",
    "df_nulos = df_renomeado.isnull().sum()\n",
    "print(df_nulos)"
   ]
  },
  {
   "cell_type": "code",
   "execution_count": null,
   "metadata": {},
   "outputs": [],
   "source": [
    "# Limpando os dados nulos\n",
    "df_limpo_nulos = df_renomeado.dropna()\n",
    "print(df_limpo_nulos.isnull().sum())"
   ]
  },
  {
   "cell_type": "code",
   "execution_count": null,
   "metadata": {},
   "outputs": [],
   "source": [
    "# Mostrando o df limpo dos nulos\n",
    "print(df_limpo_nulos)\n",
    "\n",
    "# Verificando os duplicados\n",
    "df_sem_duplicados = df_limpo_nulos[df_limpo_nulos.duplicated()]\n",
    "print()\n",
    "print(df_sem_duplicados)"
   ]
  },
  {
   "cell_type": "markdown",
   "metadata": {},
   "source": [
    "#### Resultados:\n",
    "\n",
    "- Aqui irei através de gráficos mostrar as relações das hipóteses levantadas no objetivo do Projeto.\n",
    "- Serão usadas as bibliotecas 'Metplotlib e Seaborn'.\n",
    "\n",
    "##### Gráfico 1: Médias do total de casos por Localização."
   ]
  },
  {
   "cell_type": "code",
   "execution_count": null,
   "metadata": {},
   "outputs": [],
   "source": [
    "# Verificando total de casos por localização\n",
    "casos_local = df_limpo_nulos.groupby('Localização')['Total_Casos'].mean()\n",
    "\n",
    "# Verificando o País com maiores casos\n",
    "maior_caso = df_limpo_nulos['Total_Casos'].max()\n",
    "\n",
    "# Mostra todos os dados do País com maiores casos\n",
    "maior_caso = df_limpo_nulos[df_limpo_nulos['Total_Casos'] == maior_caso]\n",
    "\n",
    "print(f'Dados do País com o maior número de casos:\\n{maior_caso}')\n",
    "\n",
    "# Mostrando os resultados com o gráfico por médias\n",
    "plt.figure(figsize=(30, 12))\n",
    "casos_local.plot(kind='bar', color='blue')\n",
    "plt.title('Proporção Total de Casos X Localização')\n",
    "plt.xlabel('Localização')\n",
    "plt.ylabel('Média')\n",
    "plt.grid(True)\n",
    "plt.show()\n",
    "\n"
   ]
  },
  {
   "cell_type": "markdown",
   "metadata": {},
   "source": [
    "#### Conclusão Gráfico 1:\n",
    "\n",
    "- De acordo com o gráfico acima, os maiores números de casos foram registrados respectivamente entre Estados Unidos, Brasil e India,\n",
    "os demais Países não tiveram tanta relevância comparados as médias dos três Países."
   ]
  },
  {
   "cell_type": "markdown",
   "metadata": {},
   "source": [
    "##### Gráfico 2: Médias do total de casos por População."
   ]
  },
  {
   "cell_type": "code",
   "execution_count": null,
   "metadata": {},
   "outputs": [],
   "source": [
    "# Média do total de casos por população\n",
    "casos_populacao = df_limpo_nulos.groupby('População')['Total_Casos'].mean()\n",
    "\n",
    "# País com maior População\n",
    "maior_populacao = df_limpo_nulos['População'].max()\n",
    "\n",
    "# Dados do País com maior População\n",
    "maior_populacao = df_limpo_nulos[df_limpo_nulos['População'] == maior_populacao]\n",
    "\n",
    "# Mostrando os dados do País com maior população\n",
    "print(f'Dados do País com maior população:\\n{maior_populacao.head(1)}')\n",
    "\n",
    "# Mostrando os dados com o gráfico\n",
    "plt.figure(figsize=(30, 12))\n",
    "casos_populacao.plot(kind='bar', color='green')\n",
    "plt.title('Proporção de Casos por População')\n",
    "plt.xlabel('População')\n",
    "plt.ylabel('Total Casos')\n",
    "plt.grid(True)\n",
    "plt.show()"
   ]
  },
  {
   "cell_type": "markdown",
   "metadata": {},
   "source": [
    "#### Conclusão Gráfico 2:\n",
    "\n",
    "- Considerando o gráfico acima, a média alta de casos, independe do tamanho da população, sendo que\n",
    "populações menores os casos foram menores e populações maiores como o caso da China também foram menores.\n",
    "\n",
    "- Obs: Lembremos que a China tem sistema político ditatorial.\n",
    "\n",
    "- Obs: Na data de realização desse Projeto(29/11/2023) a India, em Abril de 2023, superou a população Chinesa, sengundo publicação do Fundo de População das Nações Unidas(UNFPA).\n",
    "\n",
    "- link: https://www.nationalgeographicbrasil.com/meio-ambiente/2023/06/qual-e-o-pais-com-a-maior-populacao-do-mundo#:~:text=Segundo%20um%20relat%C3%B3rio%20publicado%20pela,na%C3%A7%C3%A3o%20mais%20populosa%20at%C3%A9%20ent%C3%A3o."
   ]
  },
  {
   "cell_type": "markdown",
   "metadata": {},
   "source": [
    "##### Gráfico 3: Médias do total de mortes por PIB_per_capita."
   ]
  },
  {
   "cell_type": "code",
   "execution_count": null,
   "metadata": {},
   "outputs": [],
   "source": [
    "#Média dos casos de mortes por PIB de cada País\n",
    "mortes_pib = df_limpo_nulos.groupby('PIB_per_capita')['Total_Mortes'].mean()\n",
    "\n",
    "# Maior PIB\n",
    "maior_pib = df_limpo_nulos['PIB_per_capita'].max()\n",
    "\n",
    "# Dados do País com maior PIB\n",
    "maior_pib = df_limpo_nulos[df_limpo_nulos['PIB_per_capita'] == maior_pib]\n",
    "\n",
    "# Mostrado os dados do País com maior PIB_per_capita\n",
    "print(f'Dados do País com maior PIB_per_capita:\\n{maior_pib.head(1)}')\n",
    "\n",
    "# Mostrando os dados com o gráfico\n",
    "plt.figure(figsize=(30, 12))\n",
    "mortes_pib.plot(kind='bar', color='red')\n",
    "plt.title('Proporção total de mortes por PIB')\n",
    "plt.xlabel('PIB')\n",
    "plt.ylabel('Total Mortes')\n",
    "plt.grid(True)\n",
    "plt.show()\n"
   ]
  },
  {
   "cell_type": "markdown",
   "metadata": {},
   "source": [
    "#### Conclusão Gráfico 3:\n",
    "\n",
    "- Analisando o gráfico acima, verificamos que a relação de casos de mortes com o PIB_per_capita não se correlaciona, \n",
    "o maior PIB_per_capita(Qatar, segundo o dataset), apesar do número de mortes baixo, não é salutar afirmar que houve correlação, pois Estados Unidos teve o maior número de mortes com PIB_per_capita satisfatório.\n",
    "- Também justifica a não correlação pib/mortes os países de PIB_per_capita mínimo e não houve uma explosão nos casos de mortes.\n",
    "\n",
    "- Obs: Lembrando que o maior PIB_per_capita foi tabulado do dataset usado nesse trabalho"
   ]
  },
  {
   "cell_type": "markdown",
   "metadata": {},
   "source": [
    "##### Gráfico Final: Representação do maior número de casos e mortes dividido pelas respectivas populações."
   ]
  },
  {
   "cell_type": "code",
   "execution_count": null,
   "metadata": {},
   "outputs": [],
   "source": [
    "# Maior número de caso\n",
    "maior_num_casos = df_limpo_nulos['Total_Casos'].max()\n",
    "\n",
    "# Dados País com maior número de casos\n",
    "maior_num_casos = df_limpo_nulos[df_limpo_nulos['Total_Casos'] == maior_num_casos]\n",
    "\n",
    "# Casos por habitantes\n",
    "casos_habitantes = maior_num_casos['Total_Casos'] / maior_num_casos['População']\n",
    "\n",
    "# Separar o nome do País e total de casos por habitantes\n",
    "for local in maior_num_casos['Localização']:\n",
    "    for total in casos_habitantes:\n",
    "        print(f'O(s) {local} tiveram o total de {total:.5f} de casos por habitantes.')"
   ]
  },
  {
   "cell_type": "code",
   "execution_count": null,
   "metadata": {},
   "outputs": [],
   "source": [
    "# Maior número de mortes\n",
    "maior_num_mortes = df_limpo_nulos['Total_Mortes'].max()\n",
    "\n",
    "# Dados País com maior número de mortes\n",
    "maior_num_mortes = df_limpo_nulos[df_limpo_nulos['Total_Mortes'] == maior_num_mortes]\n",
    "\n",
    "# Mortes por habitantes\n",
    "mortes_habitantes = maior_num_mortes['Total_Mortes'] / maior_num_mortes['População']\n",
    "\n",
    "# Separar o nome do País e total de mortes por habitantes\n",
    "for local_morte in maior_num_mortes['Localização']:\n",
    "    for total_mortes in mortes_habitantes:\n",
    "        print(f'O(s) {local_morte} tiveram o total de {total_mortes:.5f} de mortes por habitantes.')"
   ]
  },
  {
   "cell_type": "code",
   "execution_count": null,
   "metadata": {},
   "outputs": [],
   "source": [
    "# Representação no gráfico\n",
    "tipos = ['Casos_Habitantes', 'Mortes_Habitantes']\n",
    "totais = [total, total_mortes]\n",
    "\n",
    "# Criação do gráfico\n",
    "plt.figure(figsize=(10, 4))\n",
    "plt.bar(tipos, totais, color=['blue', 'red'])\n",
    "plt.title('Casos e Mortes por Habitantes')\n",
    "plt.xlabel('Tipos')\n",
    "plt.ylabel('Totais')\n",
    "\n",
    "# Colocando os valores emcima das barras\n",
    "for i, values in enumerate(totais):\n",
    "    plt.text(i, values, str(values), ha=\"center\", va=\"bottom\")\n",
    "\n",
    "# Mostrando o gráfico\n",
    "plt.show()\n"
   ]
  },
  {
   "cell_type": "markdown",
   "metadata": {},
   "source": [
    "#### Conclusão Gráfico Final:\n",
    "\n",
    "- O País com maior número de casos e mortes foi os Estados Unidos, a propoção de casos e mortes  \n",
    "por habitantes demonstrou que os números de casos foram exponecialmente maiores que os números de mortes.  \n",
    "\n",
    "- __SUGESTÃO:__ Com o banco de dados trabalhado poderá também ser explorado a variação do PIB_per_capita  \n",
    "por data, verificando se o aumento/diminuição dos números de casos impactou diretamente na economia."
   ]
  },
  {
   "cell_type": "markdown",
   "metadata": {},
   "source": [
    "### Por Curiosidade:  \n",
    "- Criei o gráfico abaixo com a soma de todos os números de casos nos 171 países do banco de dados  \n",
    "relacionados as populações.\n",
    "- O objetivo foi verificar qual foi a relação de caso para cada população.  \n",
    "- Será utilizado nessa demonstração a biblioteca __Seaborn__ com o gráfico __Scatter plot__."
   ]
  },
  {
   "cell_type": "markdown",
   "metadata": {},
   "source": [
    "##### Gráfico 'Curiosidade': Relação causa efeito do número de casos por população."
   ]
  },
  {
   "cell_type": "code",
   "execution_count": null,
   "metadata": {},
   "outputs": [],
   "source": [
    "# Somatório do número de casos por população\n",
    "soma_casos = df_limpo_nulos.groupby('População')['Total_Casos'].sum()\n",
    "\n",
    "# Importante criar um novo DataFrame para representar os dados, o parâmetro 'data' do sns exige.\n",
    "df_soma_casos = pd.DataFrame(soma_casos)\n",
    "\n",
    "# Estilo do gráfico\n",
    "sns.set_theme(style='whitegrid')\n",
    "\n",
    "# Dados do gráfico\n",
    "plt.figure(figsize=(10, 6))\n",
    "sns.scatterplot(data=df_soma_casos, x='População', y='Total_Casos', hue='População', palette='viridis')\n",
    "plt.title('Soma dos Casos relacionados com a População')\n",
    "plt.xlabel('Total_População')\n",
    "plt.ylabel('Soma dos Casos')\n",
    "plt.show()\n"
   ]
  },
  {
   "cell_type": "markdown",
   "metadata": {},
   "source": [
    "#### Conclusão Gráfico 'Curiosidade':  \n",
    "- Percebe-se que a concentração da soma dos totais de casos por população estiveram entre  \n",
    "as populações menores que 200 mil habitantes e ficaram abaixo de 1 na soma dos casos.\n",
    "- Logo, casos entre 4 e 8 foram de populações maiores."
   ]
  },
  {
   "cell_type": "markdown",
   "metadata": {},
   "source": [
    "#### Agradecimentos:\n",
    "- Fica aqui meus agradecimentos a cada um que compõe o FEAdev - USP que se dedicaram em levar o conteúdo da melhor maneira  \n",
    "possível, arrisco em afirmar que o conhecimento é o que temos de mais valioso, para alguns talvez as dificuldades foram  \n",
    "inevitáveis, são coisas da vida, mas a dedicação e vontade de aprender supera qualquer desafio. Sucesso equipe e que venham\n",
    "mais cursos.\n",
    "\n",
    "__Autor: Edcarlos Oliveira__"
   ]
  }
 ],
 "metadata": {
  "kernelspec": {
   "display_name": "Python 3",
   "language": "python",
   "name": "python3"
  },
  "language_info": {
   "codemirror_mode": {
    "name": "ipython",
    "version": 3
   },
   "file_extension": ".py",
   "mimetype": "text/x-python",
   "name": "python",
   "nbconvert_exporter": "python",
   "pygments_lexer": "ipython3",
   "version": "3.10.11"
  }
 },
 "nbformat": 4,
 "nbformat_minor": 2
}
