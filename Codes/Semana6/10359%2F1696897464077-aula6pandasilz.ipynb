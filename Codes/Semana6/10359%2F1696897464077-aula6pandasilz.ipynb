{
 "cells": [
  {
   "cell_type": "markdown",
   "id": "47302679",
   "metadata": {},
   "source": [
    "<h1> <span style=\"color:#F0D24C\"> <b>Pandas I</b></span></h1>"
   ]
  },
  {
   "cell_type": "markdown",
   "id": "c298feab",
   "metadata": {},
   "source": [
    "<h3> Sumário </h3>\n",
    "<ul>\n",
    "    <li>Pandas: por que e como usar?</li>   \n",
    "<li>O que é um <em> pandas.Dataframe</em>, por que importa?</li>   \n",
    "<li>O que é um <em> pandas.Series</em>, por que importa?</li>   \n",
    "<li>Operações básicas: <em>describe</em>, <em>mean</em>, <em>sum</em></li>      \n",
    "<li>Acessando e manipulando dados: índices e <em>labels</em></li>   \n",
    "<li>Acessando e manipulando dados: colunas, <em>masks</em> e <em>slices</em></li>   \n",
    "<li>Dados ausentes e duplicados</li>   \n",
    "<li>Operações com colunas e vetorização</li>   \n",
    "<li>Conclusão e recursos adicionais</li> "
   ]
  },
  {
   "cell_type": "markdown",
   "id": "9d2b7b90",
   "metadata": {},
   "source": [
    "## Introdução  \n",
    "### Pandas: por que e como usar?  \n",
    "\n",
    "O Pandas é uma biblioteca que permite a organização, análise e manipulação de dados tabulares com ótimo desempenho.  \n",
    "  \n",
    "É bastante intuitivo, fácil de usar e dialoga com diversas outras bibliotecas do Python, como **Numpy** e **Matplotlib**, ou programas de planilhas.  \n",
    "  \n",
    "Sua versatilidade e eficiência o têm tornado uma ferramenta essencial para Análise de Dados.  \n",
    "  \n",
    "No Pandas, essa tabela ou planilha é chamada de ***Dataframe***."
   ]
  },
  {
   "cell_type": "markdown",
   "id": "a72c1d04",
   "metadata": {},
   "source": [
    "|Nome|Sexo|P1|P2|Frequência|\n",
    "|---|---|---|---|---|\n",
    "|Aluno1|Masculino|1,6|4,5|50%|\n",
    "|Aluno2|Feminino|7,5|6,5|80%|\n",
    "|Aluno3|Masculino|9|8|90%|"
   ]
  },
  {
   "cell_type": "code",
   "execution_count": null,
   "id": "3341ef79",
   "metadata": {},
   "outputs": [],
   "source": [
    "#Instalando o Pandas\n",
    "\n",
    "!pip install pandas\n"
   ]
  },
  {
   "cell_type": "code",
   "execution_count": null,
   "id": "4cb44600",
   "metadata": {},
   "outputs": [],
   "source": [
    "#Importar pandas toda vez que for utilizar\n",
    "\n",
    "#Comando import + \"nome da biblioteca\" (as \"apelido\")\n",
    "\n",
    "import pandas as pd\n",
    "\n",
    "\n"
   ]
  },
  {
   "cell_type": "markdown",
   "id": "49887232",
   "metadata": {},
   "source": [
    "### *Series* e *Dataframe*: a estrutura geral do Pandas"
   ]
  },
  {
   "cell_type": "code",
   "execution_count": null,
   "id": "fa51506b",
   "metadata": {},
   "outputs": [],
   "source": [
    "#Vamos analisar a organização de dados\n",
    "# e estrutura de um dataframe\n",
    "\n",
    "ex_dict = {'Nome': ['Aluno1', 'Aluno2', 'Aluno3', 'Aluno4'], 'P1': [1.6, 7.5, 9, 5.5], 'P2': ['-', 6.5, 8, 8]}\n",
    "\n",
    "print(ex_dict)"
   ]
  },
  {
   "cell_type": "code",
   "execution_count": null,
   "id": "45021005",
   "metadata": {},
   "outputs": [],
   "source": [
    "#É possível gerar um dataframe a partir de dicionários\n",
    "\n",
    "#Note o pd de pandas\n",
    "\n",
    "dataframe = pd.DataFrame.from_dict(ex_dict)\n",
    "print(dataframe)\n",
    "\n",
    "\n"
   ]
  },
  {
   "cell_type": "markdown",
   "id": "47660f49",
   "metadata": {},
   "source": [
    "Note a estrutura dos dados no dicionário e depois no dataframe.  \n",
    "Nós temos cada coluna, contendo as linhas com as informações."
   ]
  },
  {
   "cell_type": "code",
   "execution_count": null,
   "id": "112b8dc1",
   "metadata": {},
   "outputs": [],
   "source": [
    "#Outra forma é gerar a partir de uma lista de listas\n",
    "\n",
    "listao = [['Aluno1', 1.6, '-'], ['Aluno2', 7.5, 6.5], ['Aluno3', 9, 8],['Aluno4', 5.5, 8]]\n",
    "\n",
    "dataframe2 = pd.DataFrame(listao, columns=['Nome', 'P1', 'P2'])\n",
    "print(dataframe2)\n"
   ]
  },
  {
   "cell_type": "code",
   "execution_count": null,
   "id": "c7b7ab82",
   "metadata": {},
   "outputs": [],
   "source": [
    "print(f'Dataframe gerado a partir de dicionário\\n\\n{dataframe}\\n\\nDataframe gerado a partir de lista de listas\\n\\n {dataframe2}')"
   ]
  },
  {
   "cell_type": "markdown",
   "id": "b91c4d85",
   "metadata": {},
   "source": [
    "**Series**: é um conjunto unidimensional contendo dados em diversas formas (int, float, objetos, etc.). É bastante similar ao numpy.array.  \n",
    "  \n",
    "**Dataframe**: é um conjunto bidimensional de dados. Pode ser entendido como um conjunto de *Series*.\n",
    "  "
   ]
  },
  {
   "cell_type": "markdown",
   "id": "7930677c",
   "metadata": {},
   "source": [
    "##### **Series**\n",
    "Estrutura semelhante a um array. Uma única coluna."
   ]
  },
  {
   "cell_type": "code",
   "execution_count": null,
   "id": "8ae9627f",
   "metadata": {},
   "outputs": [],
   "source": [
    "#Um series pode ser gerado a partir do comando pandas.Series()\n",
    "\n",
    "#Note a numeração das linhas e compare com a \n",
    "# estrutura de um array de numpy, por exemplo\n",
    "\n",
    "series = pd.Series(ex_dict['P1'])\n",
    "print(series)\n"
   ]
  },
  {
   "cell_type": "markdown",
   "id": "bef708bf",
   "metadata": {},
   "source": [
    "### Entendendo a estrutura e organização dos dados: operações básicas"
   ]
  },
  {
   "cell_type": "code",
   "execution_count": null,
   "id": "765704f0",
   "metadata": {},
   "outputs": [],
   "source": [
    "#Importar arquivo\n",
    "#Lembrando que o csv é um arquivo \"comma-separated\" comum em programas de planilha\n",
    "\n",
    "df = pd.read_csv('ex_pandas_csv.csv', sep=\";\")\n"
   ]
  },
  {
   "cell_type": "code",
   "execution_count": null,
   "id": "288bb888",
   "metadata": {},
   "outputs": [],
   "source": [
    "#Primeiro, vamos ter uma ideia geral dos dados...\n",
    "\n",
    "#O comando DataFrame.shape retorna o número de linhas e colunas\n",
    "print(df.shape)\n",
    "\n"
   ]
  },
  {
   "cell_type": "code",
   "execution_count": null,
   "id": "42c0c1bc",
   "metadata": {},
   "outputs": [],
   "source": [
    "#O comando DataFrame.head() imprime as linhas iniciais do dataframe\n",
    "print(df.head())"
   ]
  },
  {
   "cell_type": "code",
   "execution_count": null,
   "id": "347038cd",
   "metadata": {},
   "outputs": [],
   "source": [
    "#E dos dados finais...\n",
    "\n",
    "# O comando DataFrame.tail() imprime as linhas finais do dataframe\n",
    "print(df.tail(6))"
   ]
  },
  {
   "cell_type": "code",
   "execution_count": null,
   "id": "d257f87b",
   "metadata": {},
   "outputs": [],
   "source": [
    "#Vendo quais colunas existem no dataset todo\n",
    "\n",
    "print(df.columns)"
   ]
  },
  {
   "cell_type": "code",
   "execution_count": null,
   "id": "cc9b684f",
   "metadata": {},
   "outputs": [],
   "source": [
    "#O comando DataFrame.describe() traz informações de cada coluna\n",
    "\n",
    "print(df.describe())"
   ]
  },
  {
   "cell_type": "code",
   "execution_count": null,
   "id": "45168026",
   "metadata": {},
   "outputs": [],
   "source": [
    "#O comando DataFrame.sum() traz a soma dos dados\n",
    "\n",
    "# Lembre que,no Python, a operação de soma (+) de strings concatena as palavras\n",
    "\n",
    "print(df.sum())"
   ]
  },
  {
   "cell_type": "code",
   "execution_count": null,
   "id": "233af33a",
   "metadata": {},
   "outputs": [],
   "source": [
    "#Parece que todos os valores foram lidos como string\n",
    "# Mas sabemos que algumas colunas seriam numéricas (integers e floats)\n",
    "\n",
    "#Iremos retornar na estrutura das operações a seguir\n",
    "# por ora, veja que com apenas uma linha de código\n",
    "# resolvemos todas as questões para cada coluna\n",
    "\n",
    "#Substituimos a vírgula por ponto.\n",
    "# Regex=true permite que a vírgula seja substituída mesmo no interior da string\n",
    "\n",
    "#astype() converte toda a coluna para o \n",
    "\n",
    "\n",
    "df['P1'] = df['P1'].str.replace(',','.', regex=True).astype('float', errors='ignore')\n",
    "df['P2'] = df['P2'].str.replace(',','.', regex=True).astype('float', errors='ignore')\n",
    "\n",
    "#Como a coluna P2 contém ainda dados ausentes, preenchidos por texto,\n",
    "# iremos subtituir substituí-los por NaN (not a number)\n",
    "# \"erros = coerce\", como parâmetro, faz com que formatos não numéricos sejam preenchidos com NaN\n",
    "\n",
    "df['P2'] = pd.to_numeric(df['P2'], errors='coerce')\n",
    "\n",
    "#Agora removemos o símbolo de porcentagem (%)\n",
    "# e transformamos os dados em float\n",
    "\n",
    "df['Frequência'] = df['Frequência'].str.rstrip('%').astype('float', errors='ignore') / 100.0\n"
   ]
  },
  {
   "cell_type": "code",
   "execution_count": null,
   "id": "0f9798f6",
   "metadata": {},
   "outputs": [],
   "source": [
    "#Retornando à operação anterior...\n",
    "#Vamos tentar usar DataFrame.sum()\n",
    "\n",
    "print(df.sum())"
   ]
  },
  {
   "cell_type": "code",
   "execution_count": null,
   "id": "22872541",
   "metadata": {},
   "outputs": [],
   "source": [
    "#Uma outra forma de entender a estrutura dos dados númericos é ver sua média\n",
    "#A média pode ser calculada com o comando DataFrame.mean()\n",
    "\n",
    "#Tentar usar mean em todas as colunas, incluindo não numéricas,\n",
    "# retorna um aviso\n",
    "\n",
    "print(df.mean())\n",
    "\n"
   ]
  },
  {
   "cell_type": "code",
   "execution_count": null,
   "id": "0fd42443",
   "metadata": {},
   "outputs": [],
   "source": [
    "#Para limitar nossa análise apenas aos dados numéricos\n",
    "print(df.mean(numeric_only=True))"
   ]
  },
  {
   "cell_type": "code",
   "execution_count": null,
   "id": "461229fa",
   "metadata": {},
   "outputs": [],
   "source": [
    "#Vamos ver como está o dataframe agora\n",
    "print(df.head(16))"
   ]
  },
  {
   "cell_type": "markdown",
   "id": "b81002d3",
   "metadata": {},
   "source": [
    "### Índices e localização dos dados no *Dataframe*\n"
   ]
  },
  {
   "cell_type": "markdown",
   "id": "29c370b6",
   "metadata": {},
   "source": [
    "De forma similar às listas, os dados num Dataframe podem ser acessados por um localizador.  \n",
    "É um endereço para indicar a linha e a coluna em que os dados se encontram.  \n",
    "No geral, as linhas são indicadas por um índice que aparece no canto esquerdo da impressão do dataframe.\n",
    "Já as colunas, costumam estar associadas a algum nome.\n",
    "  "
   ]
  },
  {
   "cell_type": "code",
   "execution_count": null,
   "id": "d72ded60",
   "metadata": {},
   "outputs": [],
   "source": [
    "print(df)"
   ]
  },
  {
   "cell_type": "markdown",
   "id": "8050f02d",
   "metadata": {},
   "source": [
    "Os dados de uma coluna (ou uma lista de colunas) podem ser acessados da seguinte forma:\n",
    "\n",
    "<h4>nome_dataframe<span style=\"color:#6FCA10\">[</span><span style=\"color:#B5340F\">'Nome da coluna'</span><span style=\"color:#6FCA10\">]</span></h4>\n"
   ]
  },
  {
   "cell_type": "code",
   "execution_count": null,
   "id": "fb1165bc",
   "metadata": {},
   "outputs": [],
   "source": [
    "df['P1']"
   ]
  },
  {
   "cell_type": "code",
   "execution_count": null,
   "id": "919659df",
   "metadata": {
    "scrolled": true
   },
   "outputs": [],
   "source": [
    "#Podemos calcular as estatísticas vistas anteriormente em colunas isoladas\n",
    "\n",
    "#Preste atenção na estrutura do código para acessar os dados da coluna\n",
    "\n",
    "# DataFrame.mean() retorna a média aritmética como float (número com decimais)\n",
    "\n",
    "media_col1 = df['P1'].mean()\n",
    "print(media_col1, type(media_col1))\n",
    "\n",
    "# DataFrame.std() retorna desvio padrão como float (número com decimais)\n",
    "dp_col1 = df['P1'].std()\n",
    "\n",
    "print(f'A prova 1 teve média {media_col1:.2f} e desvio padrão de {dp_col1:.2f}')\n"
   ]
  },
  {
   "cell_type": "code",
   "execution_count": null,
   "id": "35d16610",
   "metadata": {},
   "outputs": [],
   "source": [
    "#Fazemos o mesmo para a P2\n",
    "\n",
    "media_col2 = df['P2'].mean()\n",
    "dp_col2 = df['P2'].std()\n",
    "\n",
    "print(f'A prova 2 teve média {media_col2:.2f} e desvio padrão de {dp_col2:.2f}')"
   ]
  },
  {
   "cell_type": "code",
   "execution_count": null,
   "id": "e76da265",
   "metadata": {},
   "outputs": [],
   "source": [
    "#Para acessar um conjunto de colunas, usamos a estrutura a seguir\n",
    "\n",
    "#Note que a lista deve estar dentro de seu próprio parênteses\n",
    "#nome_dataframe[[lista do nome das colunas]]\n",
    "\n",
    "print(df[['P1', 'P2']])"
   ]
  },
  {
   "cell_type": "code",
   "execution_count": null,
   "id": "c5d5bc89",
   "metadata": {},
   "outputs": [],
   "source": [
    "#Para facilitar, podemos alterar os nomes das colunas por abreviações\n",
    "#Os novos nomes devem ser inseridos numa estrutura de dicionário, como segue:\n",
    "\n",
    "# DataFrame.rename(columns={'nome_antigo1': 'novo_nome1', 'nome_antigo2': 'novo_nome2'})\n",
    "\n",
    "dados = df.rename(columns={'Frequência':'Freq'})\n",
    "print(dados.head(4))"
   ]
  },
  {
   "cell_type": "code",
   "execution_count": null,
   "id": "0de85b8d",
   "metadata": {},
   "outputs": [],
   "source": [
    "#Também é comum utilizar slicing para retornar um subconjunto de linhas\n",
    "\n",
    "#Note que os dados se iniciam na posição 0 e o último item\n",
    "# (aqui indicado pela posição 2) não é incluído\n",
    "\n",
    "print(dados[0:3])"
   ]
  },
  {
   "cell_type": "code",
   "execution_count": null,
   "id": "e9ebc691",
   "metadata": {},
   "outputs": [],
   "source": [
    "# Deixamos em branco depois do \":\" para indicar que todos os dados serão incluídos\n",
    "\n",
    "print(dados[5:])\n",
    "print(dados[:3])\n",
    "\n"
   ]
  },
  {
   "cell_type": "code",
   "execution_count": null,
   "id": "8bc9160d",
   "metadata": {},
   "outputs": [],
   "source": [
    "#Também podemos excluir alguma coluna não necessária\n",
    "# Usamos Dataframe.drop()\n",
    "\n",
    "#O argumento inplace mantém o objeto \"dados\", apenas remove as colunas dele\n",
    "# axis indica se devem ser removidas linhas ou colunas, 0 é para linhas e 1, colunas\n",
    "\n",
    "dados.drop(['Nome', 'Sexo'], axis=1, inplace=True)\n",
    "print(dados)"
   ]
  },
  {
   "cell_type": "code",
   "execution_count": null,
   "id": "2ffe02b7",
   "metadata": {},
   "outputs": [],
   "source": [
    "#Um último recurso importante é o conceito de máscaras (ou masks)\n",
    "# Máscara é uma condição que retornar verdadeiro ou falso e permite \n",
    "# retirar um subconjunto dos dados\n",
    "\n",
    "#Vamos ver o subconjunto de notas que foram maiores que 7 na P1\n",
    "mask = dados['P1'] > 7\n",
    "print(dados[mask])"
   ]
  },
  {
   "cell_type": "code",
   "execution_count": null,
   "id": "c7664b64",
   "metadata": {},
   "outputs": [],
   "source": [
    "# E agora, aquele com as notas maiores que 5 na P1 E na P2\n",
    "\n",
    "#O operador \"&\" entre as condições indica intersecção, \n",
    "#. ou seja, ambos devem ser verdadeiros\n",
    "\n",
    "mask = (dados['P1'] > 7)&(dados['P2'] > 7)\n",
    "print(dados[mask])"
   ]
  },
  {
   "cell_type": "markdown",
   "id": "21977238",
   "metadata": {},
   "source": [
    "### Dados ausentes e duplicados"
   ]
  },
  {
   "cell_type": "code",
   "execution_count": null,
   "id": "db96b36c",
   "metadata": {},
   "outputs": [],
   "source": [
    "#Procuramos por dados ausentes com isna() e isnull()\n",
    "\n",
    "df.isna() #retorna dados ausentes"
   ]
  },
  {
   "cell_type": "code",
   "execution_count": null,
   "id": "f060aac1",
   "metadata": {},
   "outputs": [],
   "source": [
    "df.isnull() #retorna dados nulos"
   ]
  },
  {
   "cell_type": "code",
   "execution_count": null,
   "id": "bdec8c50",
   "metadata": {},
   "outputs": [],
   "source": [
    "#Podemos eliminar esses dados de nossas análises\n",
    "# Usamos dropna()\n",
    "\n",
    "sem_na = df.dropna()\n",
    "print(sem_na)"
   ]
  },
  {
   "cell_type": "code",
   "execution_count": null,
   "id": "7d63c07a",
   "metadata": {},
   "outputs": [],
   "source": [
    "#Ou, substituí-los por algum valor\n",
    "\n",
    "df.fillna(0, inplace=True)"
   ]
  },
  {
   "cell_type": "code",
   "execution_count": null,
   "id": "b62cf3e1",
   "metadata": {},
   "outputs": [],
   "source": [
    "df"
   ]
  },
  {
   "cell_type": "code",
   "execution_count": null,
   "id": "618268a4",
   "metadata": {},
   "outputs": [],
   "source": [
    "#Outro ponto importante a checar é a presença de valores duplicados\n",
    "df.duplicated()"
   ]
  },
  {
   "cell_type": "code",
   "execution_count": null,
   "id": "abe53c38",
   "metadata": {},
   "outputs": [],
   "source": [
    "#A estrutura dataframe[ condição ] permite retornar dados específicos\n",
    "\n",
    "print(df[df.duplicated()])"
   ]
  },
  {
   "cell_type": "code",
   "execution_count": null,
   "id": "992aa7f1",
   "metadata": {},
   "outputs": [],
   "source": [
    "#Então podemos remover a linha duplicada\n",
    "\n",
    "df.drop_duplicates(inplace=True)"
   ]
  },
  {
   "cell_type": "code",
   "execution_count": null,
   "id": "bfd2b173",
   "metadata": {},
   "outputs": [],
   "source": [
    "df"
   ]
  },
  {
   "cell_type": "markdown",
   "id": "973c4959",
   "metadata": {},
   "source": [
    "### Operações com colunas e vetorização"
   ]
  },
  {
   "cell_type": "code",
   "execution_count": null,
   "id": "221e6f4e",
   "metadata": {},
   "outputs": [],
   "source": [
    "#Podemos criar novas colunas baseadas nas existentes\n",
    "#Note a estrutura:\n",
    "#    dataframe['Nome da nova coluna'] = operação\n",
    "\n",
    "df['Média Final'] = (df['P1']+df['P2'])/2"
   ]
  },
  {
   "cell_type": "code",
   "execution_count": null,
   "id": "5ba502c7",
   "metadata": {},
   "outputs": [],
   "source": [
    "df"
   ]
  },
  {
   "cell_type": "code",
   "execution_count": null,
   "id": "ec586f29",
   "metadata": {},
   "outputs": [],
   "source": [
    "#Vetorização é uma operação com toda a coluna, em conjunto\n",
    "\n",
    "#Já havíamos utilizado anteriormente\n",
    "#Vamos analisar a estrutura\n",
    "#   df['P2'] = df['P2'].str.replace(',','.', regex=True).astype('float', errors='ignore')\n",
    "\n",
    "#df['P2'].str contém um conjunto de funções aplicáveis a string para toda a coluna\n",
    "#.astype() converte todos os valores em conjunto\n",
    "\n",
    "import math\n",
    "\n",
    "#Series.apply() é outra função que permite modificar colunas inteiras\n",
    "#.round() é usada da mesma forma\n",
    "df['N_P2'] = df['P2'].apply(lambda x: math.sqrt(x * 9+4)).round(1)"
   ]
  },
  {
   "cell_type": "code",
   "execution_count": null,
   "id": "00251e1b",
   "metadata": {},
   "outputs": [],
   "source": [
    "df"
   ]
  },
  {
   "cell_type": "code",
   "execution_count": null,
   "id": "a1bae61e",
   "metadata": {},
   "outputs": [],
   "source": [
    "df['Nova média'] = (df['P1']+df['N_P2'])/2"
   ]
  },
  {
   "cell_type": "code",
   "execution_count": null,
   "id": "92228d68",
   "metadata": {},
   "outputs": [],
   "source": [
    "df"
   ]
  },
  {
   "cell_type": "code",
   "execution_count": null,
   "id": "f4006064",
   "metadata": {},
   "outputs": [],
   "source": [
    "\n",
    "#Podemos utilizar outras funções para problemas mais complexos\n",
    "\n",
    "#Usamos numpy.select() para atribuir um valor a cada condição\n",
    "# Escrevemos a condição para aprovação\n",
    "# média final acima de 5 e frequência maior que 70% como:\n",
    "# (df['Média Final'] >= 5)&(df['Frequência']>= 0.7)\n",
    "# O \"&\" indica \"e\", intersecção...ou seja, as duas condições devem ser satisfeitas\n",
    "# Já (df['Média Final']<5) indica atribui a qualquer valor abaixo de 5\n",
    "# na média final o string 'Reprovado' para a nova coluna \"Resultado\"\n",
    "\n",
    "import numpy as np\n",
    "\n",
    "condicao = [(df['Nova média'] >= 5)&(df['Frequência']>= 0.7), (df['Nova média']<5), df['Frequência']< 0.7]\n",
    "valores = ['Aprovado', 'Reprovado', 'Reprovado']\n",
    "\n",
    "\n",
    "df['Resultado'] = np.select(condicao, valores)\n"
   ]
  },
  {
   "cell_type": "code",
   "execution_count": null,
   "id": "1aaad695",
   "metadata": {},
   "outputs": [],
   "source": [
    "df"
   ]
  },
  {
   "cell_type": "markdown",
   "id": "f621c890",
   "metadata": {},
   "source": [
    "<h3> <span style=\"color:#F0D24C\"> <b>Recapitulando...</b></span></h3>"
   ]
  },
  {
   "cell_type": "markdown",
   "id": "ff965b71",
   "metadata": {},
   "source": [
    "<ul>\n",
    "    <li><b>Pandas</b>: versatilidade e eficiência na análise e manipulação de dados</li>   \n",
    "<li>Series: formato unidimensional, diversos tipos de dados</li>   \n",
    "<li>Dataframe: bidimensional - linhas e colunas</li>   \n",
    "<li>Operações básicas: <em>.shape( ), <em>.describe( )</em>, <em>.mean( )</em>, <em>.sum( )</em>, <em>.columns</em></li>      \n",
    "<li>Índices e labels: os endereços dos dados</li>   \n",
    "<li>Coluna: Dataframe['Nome']</li>\n",
    "<li>Linhas: Dataframe[0:4]</li>   \n",
    "<li>Dados ausentes - .isnull( ), .isna( ) e .dropna()</li>   \n",
    "<li>Dados duplicados - .duplicated( ) e .drop_duplicates( )</li>   \n",
    "<li>Vetorização: operando com toda a coluna</li>\n",
    "</ul>"
   ]
  },
  {
   "cell_type": "markdown",
   "id": "dee30f37",
   "metadata": {},
   "source": [
    "<h3> <span style=\"color:#F0D24C\"> <b>Recursos adicionais...</b></span></h3>\n",
    "\n"
   ]
  },
  {
   "cell_type": "markdown",
   "id": "6b4608a0",
   "metadata": {},
   "source": [
    "\n",
    "[Guia do Usuário - Pandas (em inglês)](https://pandas.pydata.org/docs/user_guide/index.html)"
   ]
  }
 ],
 "metadata": {
  "kernelspec": {
   "display_name": "Python 3 (ipykernel)",
   "language": "python",
   "name": "python3"
  },
  "language_info": {
   "codemirror_mode": {
    "name": "ipython",
    "version": 3
   },
   "file_extension": ".py",
   "mimetype": "text/x-python",
   "name": "python",
   "nbconvert_exporter": "python",
   "pygments_lexer": "ipython3",
   "version": "3.9.7"
  }
 },
 "nbformat": 4,
 "nbformat_minor": 5
}
