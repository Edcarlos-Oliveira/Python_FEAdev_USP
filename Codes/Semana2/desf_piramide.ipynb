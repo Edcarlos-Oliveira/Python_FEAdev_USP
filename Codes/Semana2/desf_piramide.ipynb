{
 "cells": [
  {
   "cell_type": "markdown",
   "metadata": {},
   "source": [
    "Desafio da Piramide com input do usuário:"
   ]
  },
  {
   "cell_type": "code",
   "execution_count": null,
   "metadata": {},
   "outputs": [],
   "source": [
    "# Piramide com uma coluna\n",
    "tamanho = int(input('Qual o Tamanho? '))\n",
    "\n",
    "for tam in range(1, tamanho + 1):\n",
    "    tamanho -= 1\n",
    "    print(' ' * tamanho, end='')\n",
    "    print('#' * tam)"
   ]
  },
  {
   "cell_type": "code",
   "execution_count": null,
   "metadata": {},
   "outputs": [],
   "source": [
    "# Pirâmide com duas colunas\n",
    "tamanho = int(input('Qual o tamanho? '))\n",
    "\n",
    "for tam in range(1, tamanho + 1):\n",
    "    tamanho -= 1\n",
    "    print(' ' * tamanho, end='')\n",
    "    print('#' * tam, end='')\n",
    "    print('  ', end='')\n",
    "    print('#' * tam, end='')\n",
    "    print(' ' * tamanho)"
   ]
  }
 ],
 "metadata": {
  "kernelspec": {
   "display_name": "Python 3",
   "language": "python",
   "name": "python3"
  },
  "language_info": {
   "codemirror_mode": {
    "name": "ipython",
    "version": 3
   },
   "file_extension": ".py",
   "mimetype": "text/x-python",
   "name": "python",
   "nbconvert_exporter": "python",
   "pygments_lexer": "ipython3",
   "version": "3.10.11"
  },
  "orig_nbformat": 4
 },
 "nbformat": 4,
 "nbformat_minor": 2
}
